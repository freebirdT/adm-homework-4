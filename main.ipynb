{
 "cells": [
  {
   "cell_type": "code",
   "execution_count": 2,
   "metadata": {
    "execution": {
     "iopub.execute_input": "2020-12-12T13:42:35.608578Z",
     "iopub.status.busy": "2020-12-12T13:42:35.608419Z",
     "iopub.status.idle": "2020-12-12T13:42:35.928754Z",
     "shell.execute_reply": "2020-12-12T13:42:35.928253Z",
     "shell.execute_reply.started": "2020-12-12T13:42:35.608560Z"
    }
   },
   "outputs": [],
   "source": [
    "import numpy as np\n",
    "import pandas as pd\n",
    "import random"
   ]
  },
  {
   "cell_type": "code",
   "execution_count": 40,
   "metadata": {
    "execution": {
     "iopub.execute_input": "2020-12-12T13:47:34.412832Z",
     "iopub.status.busy": "2020-12-12T13:47:34.412648Z",
     "iopub.status.idle": "2020-12-12T13:47:40.147948Z",
     "shell.execute_reply": "2020-12-12T13:47:40.147552Z",
     "shell.execute_reply.started": "2020-12-12T13:47:34.412814Z"
    }
   },
   "outputs": [
    {
     "data": {
      "text/html": [
       "<div>\n",
       "<style scoped>\n",
       "    .dataframe tbody tr th:only-of-type {\n",
       "        vertical-align: middle;\n",
       "    }\n",
       "\n",
       "    .dataframe tbody tr th {\n",
       "        vertical-align: top;\n",
       "    }\n",
       "\n",
       "    .dataframe thead th {\n",
       "        text-align: right;\n",
       "    }\n",
       "</style>\n",
       "<table border=\"1\" class=\"dataframe\">\n",
       "  <thead>\n",
       "    <tr style=\"text-align: right;\">\n",
       "      <th></th>\n",
       "      <th>0</th>\n",
       "    </tr>\n",
       "  </thead>\n",
       "  <tbody>\n",
       "    <tr>\n",
       "      <th>0</th>\n",
       "      <td>844082e02a27ddee8d99ea1af94a2969</td>\n",
       "    </tr>\n",
       "    <tr>\n",
       "      <th>1</th>\n",
       "      <td>ff96d6665b5c59d3a70bb8f2ba4f10be</td>\n",
       "    </tr>\n",
       "    <tr>\n",
       "      <th>2</th>\n",
       "      <td>b64a85884e2b159829331c19e05dbac9</td>\n",
       "    </tr>\n",
       "    <tr>\n",
       "      <th>3</th>\n",
       "      <td>1c8836719e84867c26ba2cfeb372c53d</td>\n",
       "    </tr>\n",
       "    <tr>\n",
       "      <th>4</th>\n",
       "      <td>b66f73ffd9008d9c99159e164261df51</td>\n",
       "    </tr>\n",
       "  </tbody>\n",
       "</table>\n",
       "</div>"
      ],
      "text/plain": [
       "                                  0\n",
       "0  844082e02a27ddee8d99ea1af94a2969\n",
       "1  ff96d6665b5c59d3a70bb8f2ba4f10be\n",
       "2  b64a85884e2b159829331c19e05dbac9\n",
       "3  1c8836719e84867c26ba2cfeb372c53d\n",
       "4  b66f73ffd9008d9c99159e164261df51"
      ]
     },
     "execution_count": 40,
     "metadata": {},
     "output_type": "execute_result"
    }
   ],
   "source": [
    "df = pd.read_csv('hash.txt', header=None, nrows=10000000)\n",
    "df.head()"
   ]
  },
  {
   "cell_type": "code",
   "execution_count": 100,
   "metadata": {
    "execution": {
     "iopub.execute_input": "2020-12-12T13:55:37.012859Z",
     "iopub.status.busy": "2020-12-12T13:55:37.012697Z",
     "iopub.status.idle": "2020-12-12T13:55:37.017633Z",
     "shell.execute_reply": "2020-12-12T13:55:37.017152Z",
     "shell.execute_reply.started": "2020-12-12T13:55:37.012840Z"
    }
   },
   "outputs": [],
   "source": [
    "class HashLogLog:\n",
    "    def __init__(self):\n",
    "        random.seed(42)\n",
    "        self.m = 2 ** 26 # around 1/2 of the cardinality of the universe\n",
    "        self.p = 10 ** 9 + 9 # big prime number > m\n",
    "        self.a = random.randint(1, self.m)\n",
    "        self.b = random.randint(0, self.m)\n",
    "    \n",
    "    def get_hash(self, x):\n",
    "        x = int(x, 16)\n",
    "        bin_hash = bin(((self.a * x + self.b) % self.p) % self.m)[2:]\n",
    "        return bin_hash.zfill(26)\n",
    "    \n",
    "    def leading_zeroes(self, x, k=4):\n",
    "        hashed = self.get_hash(x)\n",
    "        root = hashed[:k]\n",
    "        hashed_count = hashed[k:]\n",
    "        leading_zeroes = 0\n",
    "        i = 0\n",
    "        while ((hashed_count[i] != '1') and (i < 21)):\n",
    "            leading_zeroes += 1\n",
    "            i += 1\n",
    "        return (root, leading_zeroes)"
   ]
  },
  {
   "cell_type": "code",
   "execution_count": 101,
   "metadata": {
    "execution": {
     "iopub.execute_input": "2020-12-12T13:55:37.102243Z",
     "iopub.status.busy": "2020-12-12T13:55:37.102042Z",
     "iopub.status.idle": "2020-12-12T13:55:37.105384Z",
     "shell.execute_reply": "2020-12-12T13:55:37.104716Z",
     "shell.execute_reply.started": "2020-12-12T13:55:37.102218Z"
    }
   },
   "outputs": [],
   "source": [
    "my_hash = HashLogLog()"
   ]
  },
  {
   "cell_type": "code",
   "execution_count": 102,
   "metadata": {
    "execution": {
     "iopub.execute_input": "2020-12-12T13:55:40.596989Z",
     "iopub.status.busy": "2020-12-12T13:55:40.596671Z",
     "iopub.status.idle": "2020-12-12T13:55:52.322255Z",
     "shell.execute_reply": "2020-12-12T13:55:52.321799Z",
     "shell.execute_reply.started": "2020-12-12T13:55:40.596949Z"
    }
   },
   "outputs": [
    {
     "data": {
      "text/plain": [
       "0          (0110, 0)\n",
       "1          (0110, 3)\n",
       "2          (1101, 1)\n",
       "3          (1011, 1)\n",
       "4          (1011, 1)\n",
       "             ...    \n",
       "9999995    (1110, 2)\n",
       "9999996    (0000, 1)\n",
       "9999997    (0101, 0)\n",
       "9999998    (0010, 0)\n",
       "9999999    (1001, 1)\n",
       "Name: 0, Length: 10000000, dtype: object"
      ]
     },
     "execution_count": 102,
     "metadata": {},
     "output_type": "execute_result"
    }
   ],
   "source": [
    "df[0].apply(my_hash.leading_zeroes)"
   ]
  }
 ],
 "metadata": {
  "kernelspec": {
   "display_name": "Python 3",
   "language": "python",
   "name": "python3"
  },
  "language_info": {
   "codemirror_mode": {
    "name": "ipython",
    "version": 3
   },
   "file_extension": ".py",
   "mimetype": "text/x-python",
   "name": "python",
   "nbconvert_exporter": "python",
   "pygments_lexer": "ipython3",
   "version": "3.7.6"
  }
 },
 "nbformat": 4,
 "nbformat_minor": 4
}
