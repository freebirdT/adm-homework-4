{
 "cells": [
  {
   "cell_type": "code",
   "execution_count": 67,
   "metadata": {
    "execution": {
     "iopub.execute_input": "2020-12-12T22:55:28.301402Z",
     "iopub.status.busy": "2020-12-12T22:55:28.301149Z",
     "iopub.status.idle": "2020-12-12T22:55:28.304790Z",
     "shell.execute_reply": "2020-12-12T22:55:28.304122Z",
     "shell.execute_reply.started": "2020-12-12T22:55:28.301374Z"
    }
   },
   "outputs": [],
   "source": [
    "import numpy as np\n",
    "import pandas as pd\n",
    "import random\n",
    "import re\n",
    "from collections import defaultdict"
   ]
  },
  {
   "cell_type": "code",
   "execution_count": 2,
   "metadata": {
    "execution": {
     "iopub.execute_input": "2020-12-12T21:31:05.332168Z",
     "iopub.status.busy": "2020-12-12T21:31:05.332044Z",
     "iopub.status.idle": "2020-12-12T21:31:05.351472Z",
     "shell.execute_reply": "2020-12-12T21:31:05.350810Z",
     "shell.execute_reply.started": "2020-12-12T21:31:05.332152Z"
    }
   },
   "outputs": [],
   "source": [
    "chunks=pd.read_csv(\"hash.txt\",header=None,chunksize=1000000)"
   ]
  },
  {
   "cell_type": "code",
   "execution_count": 112,
   "metadata": {
    "execution": {
     "iopub.execute_input": "2020-12-12T23:59:56.055183Z",
     "iopub.status.busy": "2020-12-12T23:59:56.055000Z",
     "iopub.status.idle": "2020-12-12T23:59:56.059237Z",
     "shell.execute_reply": "2020-12-12T23:59:56.058735Z",
     "shell.execute_reply.started": "2020-12-12T23:59:56.055166Z"
    }
   },
   "outputs": [],
   "source": [
    "class HashLogLog:\n",
    "    def __init__(self):\n",
    "        random.seed(42)\n",
    "        self.n_digits = 32\n",
    "        self.m = 2 ** self.bits\n",
    "        self.p = 4999999937 # 10 ** 9 + 9\n",
    "        self.a = random.randint(1, self.m)\n",
    "        self.b = random.randint(0, self.m)\n",
    "    \n",
    "    def get_hash(self, x):\n",
    "        x = int(x, 16)\n",
    "        bin_hash = bin(((self.a * x + self.b) % self.p) % self.m)[2:]\n",
    "        return bin_hash.zfill(self.bits)"
   ]
  },
  {
   "cell_type": "code",
   "execution_count": 114,
   "metadata": {
    "execution": {
     "iopub.execute_input": "2020-12-13T00:00:06.914481Z",
     "iopub.status.busy": "2020-12-13T00:00:06.914223Z",
     "iopub.status.idle": "2020-12-13T00:04:04.929385Z",
     "shell.execute_reply": "2020-12-13T00:04:04.928789Z",
     "shell.execute_reply.started": "2020-12-13T00:00:06.914436Z"
    }
   },
   "outputs": [],
   "source": [
    "my_hash = HashLogLog()\n",
    "bucket_max = [0]*64\n",
    "with open('hash.txt') as f:\n",
    "    for line in f:\n",
    "        hashed = my_hash.get_hash(line)\n",
    "        root = int(hashed[:6], 2)\n",
    "        try:\n",
    "            temp = hashed[6:].index('1')\n",
    "        except:\n",
    "            temp = len(hashed[6:])\n",
    "        if temp > bucket_max[root]:\n",
    "            bucket_max[root] = temp\n",
    "        "
   ]
  },
  {
   "cell_type": "code",
   "execution_count": 125,
   "metadata": {
    "execution": {
     "iopub.execute_input": "2020-12-13T00:06:44.729059Z",
     "iopub.status.busy": "2020-12-13T00:06:44.728442Z",
     "iopub.status.idle": "2020-12-13T00:06:44.735119Z",
     "shell.execute_reply": "2020-12-13T00:06:44.734581Z",
     "shell.execute_reply.started": "2020-12-13T00:06:44.728981Z"
    }
   },
   "outputs": [
    {
     "data": {
      "text/plain": [
       "2052214"
      ]
     },
     "execution_count": 125,
     "metadata": {},
     "output_type": "execute_result"
    }
   ],
   "source": [
    "estimate = int(2 ** (sum(bucket_max) / len(bucket_max)))\n",
    "estimate"
   ]
  },
  {
   "cell_type": "code",
   "execution_count": 7,
   "metadata": {
    "collapsed": true,
    "execution": {
     "iopub.execute_input": "2020-12-12T21:31:50.221363Z",
     "iopub.status.busy": "2020-12-12T21:31:50.221198Z",
     "iopub.status.idle": "2020-12-12T21:31:50.226361Z",
     "shell.execute_reply": "2020-12-12T21:31:50.225954Z",
     "shell.execute_reply.started": "2020-12-12T21:31:50.221346Z"
    },
    "jupyter": {
     "outputs_hidden": true
    }
   },
   "outputs": [
    {
     "data": {
      "text/plain": [
       "{'bucket000000': 0,\n",
       " 'bucket000001': 0,\n",
       " 'bucket000010': 0,\n",
       " 'bucket000011': 0,\n",
       " 'bucket000100': 0,\n",
       " 'bucket000101': 0,\n",
       " 'bucket000110': 0,\n",
       " 'bucket000111': 0,\n",
       " 'bucket001000': 0,\n",
       " 'bucket001001': 0,\n",
       " 'bucket001010': 0,\n",
       " 'bucket001011': 0,\n",
       " 'bucket001100': 0,\n",
       " 'bucket001101': 0,\n",
       " 'bucket001110': 0,\n",
       " 'bucket001111': 0,\n",
       " 'bucket010000': 0,\n",
       " 'bucket010001': 0,\n",
       " 'bucket010010': 0,\n",
       " 'bucket010011': 0,\n",
       " 'bucket010100': 0,\n",
       " 'bucket010101': 0,\n",
       " 'bucket010110': 0,\n",
       " 'bucket010111': 0,\n",
       " 'bucket011000': 0,\n",
       " 'bucket011001': 0,\n",
       " 'bucket011010': 0,\n",
       " 'bucket011011': 0,\n",
       " 'bucket011100': 0,\n",
       " 'bucket011101': 0,\n",
       " 'bucket011110': 0,\n",
       " 'bucket011111': 0,\n",
       " 'bucket100000': 0,\n",
       " 'bucket100001': 0,\n",
       " 'bucket100010': 0,\n",
       " 'bucket100011': 0,\n",
       " 'bucket100100': 0,\n",
       " 'bucket100101': 0,\n",
       " 'bucket100110': 0,\n",
       " 'bucket100111': 0,\n",
       " 'bucket101000': 0,\n",
       " 'bucket101001': 0,\n",
       " 'bucket101010': 0,\n",
       " 'bucket101011': 0,\n",
       " 'bucket101100': 0,\n",
       " 'bucket101101': 0,\n",
       " 'bucket101110': 0,\n",
       " 'bucket101111': 0,\n",
       " 'bucket110000': 0,\n",
       " 'bucket110001': 0,\n",
       " 'bucket110010': 0,\n",
       " 'bucket110011': 0,\n",
       " 'bucket110100': 0,\n",
       " 'bucket110101': 0,\n",
       " 'bucket110110': 0,\n",
       " 'bucket110111': 0,\n",
       " 'bucket111000': 0,\n",
       " 'bucket111001': 0,\n",
       " 'bucket111010': 0,\n",
       " 'bucket111011': 0,\n",
       " 'bucket111100': 0,\n",
       " 'bucket111101': 0,\n",
       " 'bucket111110': 0,\n",
       " 'bucket111111': 0}"
      ]
     },
     "execution_count": 7,
     "metadata": {},
     "output_type": "execute_result"
    }
   ],
   "source": [
    "dict_of_buckets={}\n",
    "for i in range (64):\n",
    "    z=str(bin(i)[2:].zfill(6))\n",
    "    dict_of_buckets[\"bucket\"+z]=0\n",
    "dict_of_buckets"
   ]
  },
  {
   "cell_type": "code",
   "execution_count": 8,
   "metadata": {
    "execution": {
     "iopub.execute_input": "2020-12-12T21:31:54.229556Z",
     "iopub.status.busy": "2020-12-12T21:31:54.229353Z",
     "iopub.status.idle": "2020-12-12T21:31:54.232091Z",
     "shell.execute_reply": "2020-12-12T21:31:54.231561Z",
     "shell.execute_reply.started": "2020-12-12T21:31:54.229537Z"
    },
    "scrolled": true
   },
   "outputs": [],
   "source": [
    "dict_of_buckets={}\n",
    "for i in range (64):\n",
    "    z=str(bin(i)[2:].zfill(6))\n",
    "    dict_of_buckets[\"bucket\"+z]=0\n",
    "\n",
    "my_hash = HashLogLog()"
   ]
  },
  {
   "cell_type": "code",
   "execution_count": 9,
   "metadata": {
    "execution": {
     "iopub.execute_input": "2020-12-12T21:31:54.312142Z",
     "iopub.status.busy": "2020-12-12T21:31:54.311978Z",
     "iopub.status.idle": "2020-12-12T21:37:33.747786Z",
     "shell.execute_reply": "2020-12-12T21:37:33.747299Z",
     "shell.execute_reply.started": "2020-12-12T21:31:54.312123Z"
    }
   },
   "outputs": [
    {
     "name": "stdout",
     "output_type": "stream",
     "text": [
      "Chunk number 0\n",
      "Chunk number 1\n",
      "Chunk number 2\n",
      "Chunk number 3\n",
      "Chunk number 4\n",
      "Chunk number 5\n",
      "Chunk number 6\n",
      "Chunk number 7\n",
      "Chunk number 8\n",
      "Chunk number 9\n",
      "Chunk number 10\n",
      "Chunk number 11\n",
      "Chunk number 12\n",
      "Chunk number 13\n",
      "Chunk number 14\n",
      "Chunk number 15\n",
      "Chunk number 16\n",
      "Chunk number 17\n",
      "Chunk number 18\n",
      "Chunk number 19\n",
      "Chunk number 20\n",
      "Chunk number 21\n",
      "Chunk number 22\n",
      "Chunk number 23\n",
      "Chunk number 24\n",
      "Chunk number 25\n",
      "Chunk number 26\n",
      "Chunk number 27\n",
      "Chunk number 28\n",
      "Chunk number 29\n",
      "Chunk number 30\n",
      "Chunk number 31\n",
      "Chunk number 32\n",
      "Chunk number 33\n",
      "Chunk number 34\n",
      "Chunk number 35\n",
      "Chunk number 36\n",
      "Chunk number 37\n",
      "Chunk number 38\n",
      "Chunk number 39\n",
      "Chunk number 40\n",
      "Chunk number 41\n",
      "Chunk number 42\n",
      "Chunk number 43\n",
      "Chunk number 44\n",
      "Chunk number 45\n",
      "Chunk number 46\n",
      "Chunk number 47\n",
      "Chunk number 48\n",
      "Chunk number 49\n",
      "Chunk number 50\n",
      "Chunk number 51\n",
      "Chunk number 52\n",
      "Chunk number 53\n",
      "Chunk number 54\n",
      "Chunk number 55\n",
      "Chunk number 56\n",
      "Chunk number 57\n",
      "Chunk number 58\n",
      "Chunk number 59\n",
      "Chunk number 60\n",
      "Chunk number 61\n",
      "Chunk number 62\n",
      "Chunk number 63\n",
      "Chunk number 64\n",
      "Chunk number 65\n",
      "Chunk number 66\n",
      "Chunk number 67\n",
      "Chunk number 68\n",
      "Chunk number 69\n",
      "Chunk number 70\n",
      "Chunk number 71\n",
      "Chunk number 72\n",
      "Chunk number 73\n",
      "Chunk number 74\n",
      "Chunk number 75\n",
      "Chunk number 76\n",
      "Chunk number 77\n",
      "Chunk number 78\n",
      "Chunk number 79\n",
      "Chunk number 80\n",
      "Chunk number 81\n",
      "Chunk number 82\n",
      "Chunk number 83\n",
      "Chunk number 84\n",
      "Chunk number 85\n",
      "Chunk number 86\n",
      "Chunk number 87\n",
      "Chunk number 88\n",
      "Chunk number 89\n",
      "Chunk number 90\n",
      "Chunk number 91\n",
      "Chunk number 92\n",
      "Chunk number 93\n",
      "Chunk number 94\n",
      "Chunk number 95\n",
      "Chunk number 96\n",
      "Chunk number 97\n",
      "Chunk number 98\n",
      "Chunk number 99\n",
      "Chunk number 100\n",
      "Chunk number 101\n",
      "Chunk number 102\n",
      "Chunk number 103\n",
      "Chunk number 104\n",
      "Chunk number 105\n",
      "Chunk number 106\n",
      "Chunk number 107\n",
      "Chunk number 108\n",
      "Chunk number 109\n",
      "Chunk number 110\n",
      "Chunk number 111\n",
      "Chunk number 112\n",
      "Chunk number 113\n",
      "Chunk number 114\n",
      "Chunk number 115\n",
      "Chunk number 116\n",
      "Chunk number 117\n",
      "Chunk number 118\n",
      "Chunk number 119\n",
      "Chunk number 120\n",
      "Chunk number 121\n",
      "Chunk number 122\n",
      "Chunk number 123\n",
      "Chunk number 124\n",
      "Chunk number 125\n",
      "Chunk number 126\n",
      "Chunk number 127\n",
      "Chunk number 128\n",
      "Chunk number 129\n",
      "Chunk number 130\n",
      "Chunk number 131\n",
      "Chunk number 132\n",
      "Chunk number 133\n",
      "Chunk number 134\n",
      "Chunk number 135\n",
      "Chunk number 136\n",
      "Chunk number 137\n",
      "Chunk number 138\n"
     ]
    }
   ],
   "source": [
    "for chunk_n, chunk in enumerate(chunks):\n",
    "    binary = chunk[0].apply(my_hash.leading_zeroes)\n",
    "    for i in binary:\n",
    "        root=str(i[0])\n",
    "        current_max=int(dict_of_buckets[\"bucket\"+root])\n",
    "        if int(i[1]) > current_max:\n",
    "            dict_of_buckets[\"bucket\"+root]=int(i[1])\n",
    "    print(\"Chunk number {}\".format(chunk_n))"
   ]
  },
  {
   "cell_type": "code",
   "execution_count": 11,
   "metadata": {
    "execution": {
     "iopub.execute_input": "2020-12-12T21:37:48.442539Z",
     "iopub.status.busy": "2020-12-12T21:37:48.442325Z",
     "iopub.status.idle": "2020-12-12T21:37:48.449420Z",
     "shell.execute_reply": "2020-12-12T21:37:48.448682Z",
     "shell.execute_reply.started": "2020-12-12T21:37:48.442512Z"
    },
    "scrolled": true
   },
   "outputs": [
    {
     "data": {
      "text/plain": [
       "{'bucket000000': 16,\n",
       " 'bucket000001': 16,\n",
       " 'bucket000010': 15,\n",
       " 'bucket000011': 17,\n",
       " 'bucket000100': 15,\n",
       " 'bucket000101': 18,\n",
       " 'bucket000110': 16,\n",
       " 'bucket000111': 15,\n",
       " 'bucket001000': 23,\n",
       " 'bucket001001': 19,\n",
       " 'bucket001010': 21,\n",
       " 'bucket001011': 17,\n",
       " 'bucket001100': 17,\n",
       " 'bucket001101': 20,\n",
       " 'bucket001110': 14,\n",
       " 'bucket001111': 18,\n",
       " 'bucket010000': 18,\n",
       " 'bucket010001': 16,\n",
       " 'bucket010010': 16,\n",
       " 'bucket010011': 19,\n",
       " 'bucket010100': 22,\n",
       " 'bucket010101': 18,\n",
       " 'bucket010110': 16,\n",
       " 'bucket010111': 18,\n",
       " 'bucket011000': 16,\n",
       " 'bucket011001': 18,\n",
       " 'bucket011010': 17,\n",
       " 'bucket011011': 17,\n",
       " 'bucket011100': 19,\n",
       " 'bucket011101': 17,\n",
       " 'bucket011110': 16,\n",
       " 'bucket011111': 16,\n",
       " 'bucket100000': 22,\n",
       " 'bucket100001': 24,\n",
       " 'bucket100010': 23,\n",
       " 'bucket100011': 21,\n",
       " 'bucket100100': 21,\n",
       " 'bucket100101': 23,\n",
       " 'bucket100110': 25,\n",
       " 'bucket100111': 21,\n",
       " 'bucket101000': 21,\n",
       " 'bucket101001': 21,\n",
       " 'bucket101010': 20,\n",
       " 'bucket101011': 22,\n",
       " 'bucket101100': 26,\n",
       " 'bucket101101': 22,\n",
       " 'bucket101110': 24,\n",
       " 'bucket101111': 22,\n",
       " 'bucket110000': 25,\n",
       " 'bucket110001': 24,\n",
       " 'bucket110010': 21,\n",
       " 'bucket110011': 22,\n",
       " 'bucket110100': 25,\n",
       " 'bucket110101': 23,\n",
       " 'bucket110110': 20,\n",
       " 'bucket110111': 23,\n",
       " 'bucket111000': 21,\n",
       " 'bucket111001': 20,\n",
       " 'bucket111010': 21,\n",
       " 'bucket111011': 21,\n",
       " 'bucket111100': 20,\n",
       " 'bucket111101': 20,\n",
       " 'bucket111110': 21,\n",
       " 'bucket111111': 21}"
      ]
     },
     "execution_count": 11,
     "metadata": {},
     "output_type": "execute_result"
    }
   ],
   "source": [
    "dict_of_buckets"
   ]
  },
  {
   "cell_type": "code",
   "execution_count": 12,
   "metadata": {
    "execution": {
     "iopub.execute_input": "2020-12-12T21:37:52.068709Z",
     "iopub.status.busy": "2020-12-12T21:37:52.068526Z",
     "iopub.status.idle": "2020-12-12T21:37:52.072698Z",
     "shell.execute_reply": "2020-12-12T21:37:52.072178Z",
     "shell.execute_reply.started": "2020-12-12T21:37:52.068692Z"
    }
   },
   "outputs": [
    {
     "data": {
      "text/plain": [
       "19.71875"
      ]
     },
     "execution_count": 12,
     "metadata": {},
     "output_type": "execute_result"
    }
   ],
   "source": [
    "list_of_values=list()\n",
    "for i in dict_of_buckets:\n",
    "    list_of_values.append(dict_of_buckets[i])\n",
    "n=np.mean(list_of_values)\n",
    "n"
   ]
  },
  {
   "cell_type": "code",
   "execution_count": 13,
   "metadata": {
    "execution": {
     "iopub.execute_input": "2020-12-12T21:37:54.098422Z",
     "iopub.status.busy": "2020-12-12T21:37:54.097802Z",
     "iopub.status.idle": "2020-12-12T21:37:54.104747Z",
     "shell.execute_reply": "2020-12-12T21:37:54.104165Z",
     "shell.execute_reply.started": "2020-12-12T21:37:54.098344Z"
    },
    "scrolled": true
   },
   "outputs": [
    {
     "data": {
      "text/plain": [
       "862849.848130386"
      ]
     },
     "execution_count": 13,
     "metadata": {},
     "output_type": "execute_result"
    }
   ],
   "source": [
    "estimated_cardinality=2**n\n",
    "estimated_cardinality"
   ]
  },
  {
   "cell_type": "code",
   "execution_count": null,
   "metadata": {},
   "outputs": [],
   "source": []
  }
 ],
 "metadata": {
  "kernelspec": {
   "display_name": "Python 3",
   "language": "python",
   "name": "python3"
  },
  "language_info": {
   "codemirror_mode": {
    "name": "ipython",
    "version": 3
   },
   "file_extension": ".py",
   "mimetype": "text/x-python",
   "name": "python",
   "nbconvert_exporter": "python",
   "pygments_lexer": "ipython3",
   "version": "3.7.6"
  }
 },
 "nbformat": 4,
 "nbformat_minor": 4
}
