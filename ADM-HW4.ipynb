{
 "cells": [
  {
   "cell_type": "code",
   "execution_count": 1,
   "metadata": {
    "execution": {
     "iopub.execute_input": "2020-12-14T11:20:14.690377Z",
     "iopub.status.busy": "2020-12-14T11:20:14.689601Z",
     "iopub.status.idle": "2020-12-14T11:20:14.858287Z",
     "shell.execute_reply": "2020-12-14T11:20:14.857770Z",
     "shell.execute_reply.started": "2020-12-14T11:20:14.690157Z"
    }
   },
   "outputs": [],
   "source": [
    "import numpy as np\n",
    "import pandas as pd\n",
    "import random\n",
    "\n",
    "from functions import *"
   ]
  },
  {
   "cell_type": "markdown",
   "metadata": {},
   "source": [
    "# 1. Hashing"
   ]
  },
  {
   "cell_type": "markdown",
   "metadata": {},
   "source": [
    "## Sequentially adding data to the HLL"
   ]
  },
  {
   "cell_type": "code",
   "execution_count": 28,
   "metadata": {
    "execution": {
     "iopub.execute_input": "2020-12-14T11:56:06.598724Z",
     "iopub.status.busy": "2020-12-14T11:56:06.598555Z",
     "iopub.status.idle": "2020-12-14T11:59:23.146695Z",
     "shell.execute_reply": "2020-12-14T11:59:23.146259Z",
     "shell.execute_reply.started": "2020-12-14T11:56:06.598706Z"
    }
   },
   "outputs": [
    {
     "name": "stdout",
     "output_type": "stream",
     "text": [
      "[24, 22, 23, 21, 21, 23, 24, 26, 23, 23, 22, 23, 20, 26, 23, 21, 22, 22, 21, 21, 24, 23, 20, 21, 23, 21, 24, 20, 26, 21, 22, 23, 21, 19, 24, 22, 24, 23, 23, 22, 22, 22, 24, 22, 25, 24, 23, 20, 22, 23, 22, 23, 20, 22, 20, 22, 21, 19, 20, 22, 26, 21, 25, 23]\n"
     ]
    }
   ],
   "source": [
    "log2m, bits = 6, 32\n",
    "\n",
    "HLL_6 = HyperLogLog(log2m=log2m, bits=bits)\n",
    "\n",
    "hll_6 = HLL_6.structure('hash.txt')\n",
    "\n",
    "print(hll_6)"
   ]
  },
  {
   "cell_type": "markdown",
   "metadata": {},
   "source": [
    "## Cardinality and error of the filter"
   ]
  },
  {
   "cell_type": "code",
   "execution_count": 29,
   "metadata": {
    "execution": {
     "iopub.execute_input": "2020-12-14T11:59:23.147534Z",
     "iopub.status.busy": "2020-12-14T11:59:23.147409Z",
     "iopub.status.idle": "2020-12-14T11:59:23.150894Z",
     "shell.execute_reply": "2020-12-14T11:59:23.150357Z",
     "shell.execute_reply.started": "2020-12-14T11:59:23.147517Z"
    }
   },
   "outputs": [
    {
     "name": "stdout",
     "output_type": "stream",
     "text": [
      "Total bits: 32\n",
      "Bits for the buckets: 6\n",
      "Estimate: 133851947\n",
      "Accuracy: 0.13\n"
     ]
    }
   ],
   "source": [
    "estimate_6 = HLL_6.cardinality(hll_6)\n",
    "accuracy_6 = HLL_6.accuracy()\n",
    "\n",
    "print('Total bits: {}\\nBits for the buckets: {}'.format(bits, log2m))\n",
    "print('Estimate: {}\\nAccuracy: {}'.format(estimate_6, accuracy_6))"
   ]
  },
  {
   "cell_type": "markdown",
   "metadata": {},
   "source": [
    "### Observation\n",
    "Maybe we can do a little bit better by increasing the lenght of the root to 11 bits. This seems to be a good point for the tradeoff between accuracy and efficiency!"
   ]
  },
  {
   "cell_type": "code",
   "execution_count": 30,
   "metadata": {
    "execution": {
     "iopub.execute_input": "2020-12-14T11:59:23.151727Z",
     "iopub.status.busy": "2020-12-14T11:59:23.151608Z",
     "iopub.status.idle": "2020-12-14T11:59:23.165129Z",
     "shell.execute_reply": "2020-12-14T11:59:23.164745Z",
     "shell.execute_reply.started": "2020-12-14T11:59:23.151710Z"
    }
   },
   "outputs": [
    {
     "name": "stdout",
     "output_type": "stream",
     "text": [
      "Total bits: 32\n",
      "Bits for the buckets: 11\n",
      "Estimate: 123568357\n",
      "Accuracy: 0.023\n"
     ]
    }
   ],
   "source": [
    "log2m, bits = 11, 32\n",
    "\n",
    "HLL_11 = HyperLogLog(log2m=log2m, bits=bits)\n",
    "\n",
    "hll_11 = HLL_11.structure('hash.txt')\n",
    "\n",
    "estimate_11 = HLL_11.cardinality(hll_11)\n",
    "\n",
    "accuracy_11 = HLL_11.accuracy()\n",
    "\n",
    "print('Total bits: {}\\nBits for the buckets: {}'.format(bits, log2m))\n",
    "print('Estimate: {}\\nAccuracy: {:.3f}'.format(estimate_11, accuracy_11))"
   ]
  }
 ],
 "metadata": {
  "kernelspec": {
   "display_name": "Python 3",
   "language": "python",
   "name": "python3"
  },
  "language_info": {
   "codemirror_mode": {
    "name": "ipython",
    "version": 3
   },
   "file_extension": ".py",
   "mimetype": "text/x-python",
   "name": "python",
   "nbconvert_exporter": "python",
   "pygments_lexer": "ipython3",
   "version": "3.7.6"
  }
 },
 "nbformat": 4,
 "nbformat_minor": 4
}
