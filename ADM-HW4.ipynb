{
 "cells": [
  {
   "cell_type": "code",
   "execution_count": 107,
   "metadata": {},
   "outputs": [],
   "source": [
    "import numpy as np\n",
    "import pandas as pd\n",
    "import random"
   ]
  },
  {
   "cell_type": "code",
   "execution_count": 108,
   "metadata": {},
   "outputs": [],
   "source": [
    "chunks=pd.read_csv(\"hash.txt\",header=None,chunksize=1000000)"
   ]
  },
  {
   "cell_type": "code",
   "execution_count": 109,
   "metadata": {
    "scrolled": false
   },
   "outputs": [],
   "source": [
    "class HashLogLog:\n",
    "    def __init__(self):\n",
    "        random.seed(42)\n",
    "        self.m = 2 ** 26 # around 1/2 of the cardinality of the universe\n",
    "        self.p = 10 ** 9 + 9 # big prime number > m\n",
    "        self.a = random.randint(1, self.m)\n",
    "        self.b = random.randint(0, self.m)\n",
    "    \n",
    "    def get_hash(self, x):\n",
    "        x = int(x, 16)\n",
    "        bin_hash = bin(((self.a * x + self.b) % self.p) % self.m)[2:]\n",
    "        return bin_hash.zfill(26)\n",
    "    \n",
    "    def leading_zeroes(self, x, k=4):\n",
    "        hashed = self.get_hash(x)\n",
    "        root = hashed[:k]\n",
    "        hashed_count = hashed[k:]\n",
    "        leading_zeroes = 0\n",
    "        i = 0\n",
    "        while ((hashed_count[i] != '1') and (i < 21)):\n",
    "            leading_zeroes += 1\n",
    "            i += 1\n",
    "        return (root, leading_zeroes)"
   ]
  },
  {
   "cell_type": "code",
   "execution_count": 110,
   "metadata": {},
   "outputs": [
    {
     "data": {
      "text/plain": [
       "{'bucket0000': 0,\n",
       " 'bucket0001': 0,\n",
       " 'bucket0010': 0,\n",
       " 'bucket0011': 0,\n",
       " 'bucket0100': 0,\n",
       " 'bucket0101': 0,\n",
       " 'bucket0110': 0,\n",
       " 'bucket0111': 0,\n",
       " 'bucket1000': 0,\n",
       " 'bucket1001': 0,\n",
       " 'bucket1010': 0,\n",
       " 'bucket1011': 0,\n",
       " 'bucket1100': 0,\n",
       " 'bucket1101': 0,\n",
       " 'bucket1110': 0,\n",
       " 'bucket1111': 0}"
      ]
     },
     "execution_count": 110,
     "metadata": {},
     "output_type": "execute_result"
    }
   ],
   "source": [
    "dict_of_buckets={}\n",
    "for i in range (16):\n",
    "    z=str(bin(i)[2:].zfill(4))\n",
    "    dict_of_buckets[\"bucket\"+z]=0\n",
    "dict_of_buckets"
   ]
  },
  {
   "cell_type": "code",
   "execution_count": 111,
   "metadata": {
    "scrolled": true
   },
   "outputs": [],
   "source": [
    "my_hash = HashLogLog()"
   ]
  },
  {
   "cell_type": "code",
   "execution_count": 112,
   "metadata": {},
   "outputs": [],
   "source": [
    "for chunk in chunks:\n",
    "    binary = chunk[0].apply(my_hash.leading_zeroes)\n",
    "    for i in binary:\n",
    "        root=str(i[0])\n",
    "        current_max=int(dict_of_buckets[\"bucket\"+root])\n",
    "        if int(i[1]) > current_max:\n",
    "            dict_of_buckets[\"bucket\"+root]=int(i[1])"
   ]
  },
  {
   "cell_type": "code",
   "execution_count": 113,
   "metadata": {
    "scrolled": true
   },
   "outputs": [
    {
     "data": {
      "text/plain": [
       "{'bucket0000': 21,\n",
       " 'bucket0001': 21,\n",
       " 'bucket0010': 21,\n",
       " 'bucket0011': 21,\n",
       " 'bucket0100': 21,\n",
       " 'bucket0101': 21,\n",
       " 'bucket0110': 21,\n",
       " 'bucket0111': 21,\n",
       " 'bucket1000': 21,\n",
       " 'bucket1001': 21,\n",
       " 'bucket1010': 21,\n",
       " 'bucket1011': 21,\n",
       " 'bucket1100': 21,\n",
       " 'bucket1101': 21,\n",
       " 'bucket1110': 21,\n",
       " 'bucket1111': 21}"
      ]
     },
     "execution_count": 113,
     "metadata": {},
     "output_type": "execute_result"
    }
   ],
   "source": [
    "dict_of_buckets"
   ]
  },
  {
   "cell_type": "code",
   "execution_count": 114,
   "metadata": {},
   "outputs": [
    {
     "data": {
      "text/plain": [
       "21.0"
      ]
     },
     "execution_count": 114,
     "metadata": {},
     "output_type": "execute_result"
    }
   ],
   "source": [
    "list_of_values=list()\n",
    "for i in dict_of_buckets:\n",
    "    list_of_values.append(dict_of_buckets[i])\n",
    "n=np.mean(list_of_values)\n",
    "n"
   ]
  },
  {
   "cell_type": "code",
   "execution_count": 116,
   "metadata": {},
   "outputs": [
    {
     "data": {
      "text/plain": [
       "2097152.0"
      ]
     },
     "execution_count": 116,
     "metadata": {},
     "output_type": "execute_result"
    }
   ],
   "source": [
    "estimated_cardinality=2**n\n",
    "estimated_cardinality"
   ]
  },
  {
   "cell_type": "code",
   "execution_count": null,
   "metadata": {},
   "outputs": [],
   "source": []
  }
 ],
 "metadata": {
  "kernelspec": {
   "display_name": "Python 3",
   "language": "python",
   "name": "python3"
  },
  "language_info": {
   "codemirror_mode": {
    "name": "ipython",
    "version": 3
   },
   "file_extension": ".py",
   "mimetype": "text/x-python",
   "name": "python",
   "nbconvert_exporter": "python",
   "pygments_lexer": "ipython3",
   "version": "3.8.3"
  }
 },
 "nbformat": 4,
 "nbformat_minor": 4
}
