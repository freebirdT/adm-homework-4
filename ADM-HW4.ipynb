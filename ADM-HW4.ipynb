{
 "cells": [
  {
   "cell_type": "code",
   "execution_count": 1,
   "metadata": {
    "execution": {
     "iopub.execute_input": "2020-12-13T11:07:08.155347Z",
     "iopub.status.busy": "2020-12-13T11:07:08.155154Z",
     "iopub.status.idle": "2020-12-13T11:07:08.470445Z",
     "shell.execute_reply": "2020-12-13T11:07:08.470018Z",
     "shell.execute_reply.started": "2020-12-13T11:07:08.155296Z"
    }
   },
   "outputs": [],
   "source": [
    "import numpy as np\n",
    "import pandas as pd\n",
    "import random\n",
    "import re\n",
    "from collections import defaultdict"
   ]
  },
  {
   "cell_type": "markdown",
   "metadata": {},
   "source": [
    "# 1. Hashing"
   ]
  },
  {
   "cell_type": "markdown",
   "metadata": {},
   "source": [
    "## 1.1 Implementation of the hashing function"
   ]
  },
  {
   "cell_type": "code",
   "execution_count": 61,
   "metadata": {
    "execution": {
     "iopub.execute_input": "2020-12-13T12:26:50.666161Z",
     "iopub.status.busy": "2020-12-13T12:26:50.665492Z",
     "iopub.status.idle": "2020-12-13T12:26:50.672687Z",
     "shell.execute_reply": "2020-12-13T12:26:50.672180Z",
     "shell.execute_reply.started": "2020-12-13T12:26:50.666075Z"
    }
   },
   "outputs": [],
   "source": [
    "class HashLogLog:\n",
    "    def __init__(self, bits=32):\n",
    "        random.seed(42)\n",
    "        self.bits = bits\n",
    "        self.m = 2 ** self.bits\n",
    "        self.p = 4999999937 # Prime number > 2^32\n",
    "        self.a = random.randint(1, self.m)\n",
    "        self.b = random.randint(0, self.m)\n",
    "        assert(self.m < self.p), \"Too many bits.\"\n",
    "    \n",
    "    def get_hash(self, x):\n",
    "        x = int(x, 16)\n",
    "        bin_hash = bin(((self.a * x + self.b) % self.p) % self.m)[2:]\n",
    "        return bin_hash.zfill(self.bits)"
   ]
  },
  {
   "cell_type": "markdown",
   "metadata": {},
   "source": [
    "## 1.2 HyperLogLog structure implementation"
   ]
  },
  {
   "cell_type": "code",
   "execution_count": 84,
   "metadata": {
    "execution": {
     "iopub.execute_input": "2020-12-13T12:48:01.542651Z",
     "iopub.status.busy": "2020-12-13T12:48:01.542023Z",
     "iopub.status.idle": "2020-12-13T12:48:01.551514Z",
     "shell.execute_reply": "2020-12-13T12:48:01.550686Z",
     "shell.execute_reply.started": "2020-12-13T12:48:01.542572Z"
    }
   },
   "outputs": [],
   "source": [
    "class HyperLogLog:\n",
    "    def __init__(self, log2m, regwidth=32):\n",
    "        self.log2m = log2m\n",
    "        self.regwidth = regwidth\n",
    "        self.my_hash = HashLogLog(bits=self.regwidth)\n",
    "        self.m = 2 ** self.log2m\n",
    "        assert(self.m in [16, 32, 64] or m >= 128)\n",
    "    \n",
    "    def structure(self, file_path):\n",
    "        HLL = [0] * self.m\n",
    "        with open(file_path) as f:\n",
    "            for line in f:\n",
    "                hashed = self.my_hash.get_hash(line)\n",
    "                root = int(hashed[:self.log2m], 2)\n",
    "                try:\n",
    "                    temp = hashed[self.log2m:].index('1') + 1\n",
    "                except:\n",
    "                    temp = len(hashed[self.log2m:])\n",
    "                if temp > HLL[root]:\n",
    "                    HLL[root] = temp\n",
    "        return HLL\n",
    "        \n",
    "    def cardinality(self, hll):\n",
    "        d = {16: 0.673, 32: 0.697, 64: 0.709}\n",
    "        if self.m >= 128:\n",
    "            alpha = 0.7213 / (1 + 1.079 / self.m)\n",
    "        else:\n",
    "            alpha = d[self.m]\n",
    "        \n",
    "        return int(self.m ** 2 * alpha * (1 / sum([2**(-x) for x in hll])))"
   ]
  },
  {
   "cell_type": "markdown",
   "metadata": {},
   "source": [
    "## 1.3 Sequentially adding data to the HLL"
   ]
  },
  {
   "cell_type": "code",
   "execution_count": 91,
   "metadata": {
    "execution": {
     "iopub.execute_input": "2020-12-13T12:52:42.758843Z",
     "iopub.status.busy": "2020-12-13T12:52:42.758672Z",
     "iopub.status.idle": "2020-12-13T12:52:42.762152Z",
     "shell.execute_reply": "2020-12-13T12:52:42.761566Z",
     "shell.execute_reply.started": "2020-12-13T12:52:42.758823Z"
    }
   },
   "outputs": [
    {
     "name": "stdout",
     "output_type": "stream",
     "text": [
      "[23, 26, 22, 26, 23, 21, 22, 23, 21, 21, 26, 24, 20, 21, 22, 21, 19, 21, 22, 24, 20, 24, 22, 22, 21, 20, 20, 22, 24, 26, 20, 24, 20, 21, 21, 23, 22, 20, 21, 23, 20, 21, 22, 21, 20, 24, 23, 22, 23, 21, 20, 21, 20, 21, 20, 20, 19, 24, 23, 21, 22, 25, 23, 23]\n"
     ]
    }
   ],
   "source": [
    "HLL = HyperLogLog(log2m=6, regwidth=32)\n",
    "\n",
    "hll = HLL.structure('hash.txt')\n",
    "\n",
    "print(hll)"
   ]
  },
  {
   "cell_type": "markdown",
   "metadata": {},
   "source": [
    "## 1.4 Cardinality and error of the filter"
   ]
  },
  {
   "cell_type": "markdown",
   "metadata": {},
   "source": [
    "### 1.4.1 Cardinality"
   ]
  },
  {
   "cell_type": "code",
   "execution_count": 86,
   "metadata": {
    "execution": {
     "iopub.execute_input": "2020-12-13T12:51:43.767411Z",
     "iopub.status.busy": "2020-12-13T12:51:43.766837Z",
     "iopub.status.idle": "2020-12-13T12:51:43.773772Z",
     "shell.execute_reply": "2020-12-13T12:51:43.773192Z",
     "shell.execute_reply.started": "2020-12-13T12:51:43.767340Z"
    }
   },
   "outputs": [
    {
     "data": {
      "text/plain": [
       "103115574"
      ]
     },
     "execution_count": 86,
     "metadata": {},
     "output_type": "execute_result"
    }
   ],
   "source": [
    "estimate = HLL.cardinality(hll)\n",
    "\n",
    "estimate"
   ]
  },
  {
   "cell_type": "markdown",
   "metadata": {},
   "source": [
    "### 1.4.2 Error"
   ]
  },
  {
   "cell_type": "code",
   "execution_count": 92,
   "metadata": {
    "execution": {
     "iopub.execute_input": "2020-12-13T12:53:26.659744Z",
     "iopub.status.busy": "2020-12-13T12:53:26.659122Z",
     "iopub.status.idle": "2020-12-13T12:56:07.989902Z",
     "shell.execute_reply": "2020-12-13T12:56:07.989311Z",
     "shell.execute_reply.started": "2020-12-13T12:53:26.659668Z"
    }
   },
   "outputs": [
    {
     "name": "stdout",
     "output_type": "stream",
     "text": [
      "125000000\n"
     ]
    }
   ],
   "source": [
    "!sort hash.txt | uniq | wc -l"
   ]
  }
 ],
 "metadata": {
  "kernelspec": {
   "display_name": "Python 3",
   "language": "python",
   "name": "python3"
  },
  "language_info": {
   "codemirror_mode": {
    "name": "ipython",
    "version": 3
   },
   "file_extension": ".py",
   "mimetype": "text/x-python",
   "name": "python",
   "nbconvert_exporter": "python",
   "pygments_lexer": "ipython3",
   "version": "3.7.6"
  }
 },
 "nbformat": 4,
 "nbformat_minor": 4
}
