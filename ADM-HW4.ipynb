{
 "cells": [
  {
   "cell_type": "code",
   "execution_count": 84,
   "metadata": {},
   "outputs": [],
   "source": [
    "import numpy as np\n",
    "import pandas as pd\n",
    "import random"
   ]
  },
  {
   "cell_type": "code",
   "execution_count": 85,
   "metadata": {},
   "outputs": [],
   "source": [
    "chunks=pd.read_csv(\"hash.txt\",header=None,chunksize=1000000)"
   ]
  },
  {
   "cell_type": "code",
   "execution_count": 91,
   "metadata": {
    "scrolled": false
   },
   "outputs": [],
   "source": [
    "class HashLogLog:\n",
    "    def __init__(self):\n",
    "        random.seed(42)\n",
    "        self.m = 2 ** 26 # around 1/2 of the cardinality of the universe\n",
    "        self.p = 10 ** 9 + 9 # big prime number > m\n",
    "        self.a = random.randint(1, self.m)\n",
    "        self.b = random.randint(0, self.m)\n",
    "    \n",
    "    def get_hash(self, x):\n",
    "        x = int(x, 16)\n",
    "        bin_hash = bin(((self.a * x + self.b) % self.p) % self.m)[2:]\n",
    "        return bin_hash.zfill(26)\n",
    "    \n",
    "    def leading_zeroes(self, x, k=6):\n",
    "        hashed = self.get_hash(x)\n",
    "        root = hashed[:k]\n",
    "        leading_zeroes = 0\n",
    "        i = -1\n",
    "        while (i > -27) and (hashed[i] != '1'):\n",
    "            leading_zeroes += 1\n",
    "            i -= 1\n",
    "        return (root, leading_zeroes)"
   ]
  },
  {
   "cell_type": "code",
   "execution_count": 87,
   "metadata": {},
   "outputs": [
    {
     "data": {
      "text/plain": [
       "{'bucket000000': 0,\n",
       " 'bucket000001': 0,\n",
       " 'bucket000010': 0,\n",
       " 'bucket000011': 0,\n",
       " 'bucket000100': 0,\n",
       " 'bucket000101': 0,\n",
       " 'bucket000110': 0,\n",
       " 'bucket000111': 0,\n",
       " 'bucket001000': 0,\n",
       " 'bucket001001': 0,\n",
       " 'bucket001010': 0,\n",
       " 'bucket001011': 0,\n",
       " 'bucket001100': 0,\n",
       " 'bucket001101': 0,\n",
       " 'bucket001110': 0,\n",
       " 'bucket001111': 0,\n",
       " 'bucket010000': 0,\n",
       " 'bucket010001': 0,\n",
       " 'bucket010010': 0,\n",
       " 'bucket010011': 0,\n",
       " 'bucket010100': 0,\n",
       " 'bucket010101': 0,\n",
       " 'bucket010110': 0,\n",
       " 'bucket010111': 0,\n",
       " 'bucket011000': 0,\n",
       " 'bucket011001': 0,\n",
       " 'bucket011010': 0,\n",
       " 'bucket011011': 0,\n",
       " 'bucket011100': 0,\n",
       " 'bucket011101': 0,\n",
       " 'bucket011110': 0,\n",
       " 'bucket011111': 0,\n",
       " 'bucket100000': 0,\n",
       " 'bucket100001': 0,\n",
       " 'bucket100010': 0,\n",
       " 'bucket100011': 0,\n",
       " 'bucket100100': 0,\n",
       " 'bucket100101': 0,\n",
       " 'bucket100110': 0,\n",
       " 'bucket100111': 0,\n",
       " 'bucket101000': 0,\n",
       " 'bucket101001': 0,\n",
       " 'bucket101010': 0,\n",
       " 'bucket101011': 0,\n",
       " 'bucket101100': 0,\n",
       " 'bucket101101': 0,\n",
       " 'bucket101110': 0,\n",
       " 'bucket101111': 0,\n",
       " 'bucket110000': 0,\n",
       " 'bucket110001': 0,\n",
       " 'bucket110010': 0,\n",
       " 'bucket110011': 0,\n",
       " 'bucket110100': 0,\n",
       " 'bucket110101': 0,\n",
       " 'bucket110110': 0,\n",
       " 'bucket110111': 0,\n",
       " 'bucket111000': 0,\n",
       " 'bucket111001': 0,\n",
       " 'bucket111010': 0,\n",
       " 'bucket111011': 0,\n",
       " 'bucket111100': 0,\n",
       " 'bucket111101': 0,\n",
       " 'bucket111110': 0,\n",
       " 'bucket111111': 0}"
      ]
     },
     "execution_count": 87,
     "metadata": {},
     "output_type": "execute_result"
    }
   ],
   "source": [
    "dict_of_buckets={}\n",
    "for i in range (64):\n",
    "    z=str(bin(i)[2:].zfill(6))\n",
    "    dict_of_buckets[\"bucket\"+z]=0\n",
    "dict_of_buckets"
   ]
  },
  {
   "cell_type": "code",
   "execution_count": 88,
   "metadata": {
    "scrolled": true
   },
   "outputs": [],
   "source": [
    "my_hash = HashLogLog()"
   ]
  },
  {
   "cell_type": "code",
   "execution_count": 89,
   "metadata": {
    "collapsed": true
   },
   "outputs": [
    {
     "name": "stdout",
     "output_type": "stream",
     "text": [
      "1\n",
      "2\n",
      "3\n",
      "4\n",
      "5\n",
      "6\n",
      "7\n",
      "8\n",
      "9\n",
      "10\n",
      "11\n",
      "12\n",
      "13\n",
      "14\n",
      "15\n",
      "16\n",
      "17\n",
      "18\n",
      "19\n",
      "20\n",
      "21\n",
      "22\n",
      "23\n",
      "24\n",
      "25\n",
      "26\n",
      "27\n",
      "28\n",
      "29\n",
      "30\n",
      "31\n",
      "32\n",
      "33\n",
      "34\n",
      "35\n",
      "36\n",
      "37\n",
      "38\n",
      "39\n",
      "40\n",
      "41\n",
      "42\n",
      "43\n",
      "44\n",
      "45\n",
      "46\n",
      "47\n",
      "48\n",
      "49\n",
      "50\n",
      "51\n",
      "52\n",
      "53\n",
      "54\n",
      "55\n",
      "56\n",
      "57\n",
      "58\n",
      "59\n",
      "60\n",
      "61\n",
      "62\n",
      "63\n",
      "64\n",
      "65\n",
      "66\n",
      "67\n",
      "68\n",
      "69\n",
      "70\n",
      "71\n",
      "72\n",
      "73\n",
      "74\n",
      "75\n",
      "76\n",
      "77\n",
      "78\n",
      "79\n",
      "80\n",
      "81\n",
      "82\n",
      "83\n",
      "84\n",
      "85\n",
      "86\n",
      "87\n",
      "88\n",
      "89\n",
      "90\n",
      "91\n",
      "92\n",
      "93\n",
      "94\n",
      "95\n",
      "96\n",
      "97\n",
      "98\n",
      "99\n",
      "100\n",
      "101\n",
      "102\n",
      "103\n",
      "104\n",
      "105\n",
      "106\n",
      "107\n",
      "108\n",
      "109\n",
      "110\n",
      "111\n",
      "112\n",
      "113\n",
      "114\n",
      "115\n",
      "116\n",
      "117\n",
      "118\n",
      "119\n",
      "120\n",
      "121\n",
      "122\n",
      "123\n",
      "124\n",
      "125\n",
      "126\n",
      "127\n",
      "128\n",
      "129\n",
      "130\n",
      "131\n",
      "132\n",
      "133\n",
      "134\n",
      "135\n",
      "136\n",
      "137\n",
      "138\n",
      "139\n"
     ]
    }
   ],
   "source": [
    "n2=0\n",
    "for chunk in chunks:\n",
    "    n2=n2+1\n",
    "    binary = chunk[0].apply(my_hash.leading_zeroes)\n",
    "    for i in binary:\n",
    "        root=str(i[0])\n",
    "        current_max=int(dict_of_buckets[\"bucket\"+root])\n",
    "        if int(i[1]) > current_max:\n",
    "            dict_of_buckets[\"bucket\"+root]=int(i[1])\n",
    "    print(n2)"
   ]
  },
  {
   "cell_type": "code",
   "execution_count": 90,
   "metadata": {
    "scrolled": true
   },
   "outputs": [
    {
     "data": {
      "text/plain": [
       "{'bucket000000': 26,\n",
       " 'bucket000001': 20,\n",
       " 'bucket000010': 21,\n",
       " 'bucket000011': 20,\n",
       " 'bucket000100': 22,\n",
       " 'bucket000101': 20,\n",
       " 'bucket000110': 21,\n",
       " 'bucket000111': 20,\n",
       " 'bucket001000': 23,\n",
       " 'bucket001001': 20,\n",
       " 'bucket001010': 21,\n",
       " 'bucket001011': 20,\n",
       " 'bucket001100': 22,\n",
       " 'bucket001101': 20,\n",
       " 'bucket001110': 21,\n",
       " 'bucket001111': 18,\n",
       " 'bucket010000': 24,\n",
       " 'bucket010001': 20,\n",
       " 'bucket010010': 21,\n",
       " 'bucket010011': 20,\n",
       " 'bucket010100': 22,\n",
       " 'bucket010101': 20,\n",
       " 'bucket010110': 21,\n",
       " 'bucket010111': 20,\n",
       " 'bucket011000': 23,\n",
       " 'bucket011001': 20,\n",
       " 'bucket011010': 19,\n",
       " 'bucket011011': 20,\n",
       " 'bucket011100': 22,\n",
       " 'bucket011101': 20,\n",
       " 'bucket011110': 21,\n",
       " 'bucket011111': 20,\n",
       " 'bucket100000': 25,\n",
       " 'bucket100001': 20,\n",
       " 'bucket100010': 21,\n",
       " 'bucket100011': 20,\n",
       " 'bucket100100': 22,\n",
       " 'bucket100101': 20,\n",
       " 'bucket100110': 19,\n",
       " 'bucket100111': 20,\n",
       " 'bucket101000': 23,\n",
       " 'bucket101001': 20,\n",
       " 'bucket101010': 21,\n",
       " 'bucket101011': 20,\n",
       " 'bucket101100': 22,\n",
       " 'bucket101101': 20,\n",
       " 'bucket101110': 21,\n",
       " 'bucket101111': 19,\n",
       " 'bucket110000': 24,\n",
       " 'bucket110001': 20,\n",
       " 'bucket110010': 21,\n",
       " 'bucket110011': 20,\n",
       " 'bucket110100': 22,\n",
       " 'bucket110101': 19,\n",
       " 'bucket110110': 21,\n",
       " 'bucket110111': 20,\n",
       " 'bucket111000': 23,\n",
       " 'bucket111001': 20,\n",
       " 'bucket111010': 19,\n",
       " 'bucket111011': 20,\n",
       " 'bucket111100': 22,\n",
       " 'bucket111101': 20,\n",
       " 'bucket111110': 21,\n",
       " 'bucket111111': 19}"
      ]
     },
     "execution_count": 90,
     "metadata": {},
     "output_type": "execute_result"
    }
   ],
   "source": [
    "dict_of_buckets"
   ]
  },
  {
   "cell_type": "code",
   "execution_count": 92,
   "metadata": {},
   "outputs": [
    {
     "data": {
      "text/plain": [
       "20.8125"
      ]
     },
     "execution_count": 92,
     "metadata": {},
     "output_type": "execute_result"
    }
   ],
   "source": [
    "list_of_values=list()\n",
    "for i in dict_of_buckets:\n",
    "    list_of_values.append(dict_of_buckets[i])\n",
    "n=np.mean(list_of_values)\n",
    "n"
   ]
  },
  {
   "cell_type": "code",
   "execution_count": 93,
   "metadata": {
    "scrolled": true
   },
   "outputs": [
    {
     "data": {
      "text/plain": [
       "1841563.8653155928"
      ]
     },
     "execution_count": 93,
     "metadata": {},
     "output_type": "execute_result"
    }
   ],
   "source": [
    "estimated_cardinality=2**n\n",
    "estimated_cardinality"
   ]
  },
  {
   "cell_type": "code",
   "execution_count": null,
   "metadata": {},
   "outputs": [],
   "source": []
  }
 ],
 "metadata": {
  "kernelspec": {
   "display_name": "Python 3",
   "language": "python",
   "name": "python3"
  },
  "language_info": {
   "codemirror_mode": {
    "name": "ipython",
    "version": 3
   },
   "file_extension": ".py",
   "mimetype": "text/x-python",
   "name": "python",
   "nbconvert_exporter": "python",
   "pygments_lexer": "ipython3",
   "version": "3.8.3"
  }
 },
 "nbformat": 4,
 "nbformat_minor": 4
}
